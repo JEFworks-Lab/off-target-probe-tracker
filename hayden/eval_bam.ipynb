{
 "cells": [
  {
   "cell_type": "code",
   "execution_count": 1,
   "metadata": {},
   "outputs": [],
   "source": [
    "import pysam"
   ]
  },
  {
   "cell_type": "code",
   "execution_count": 3,
   "metadata": {},
   "outputs": [],
   "source": [
    "fn = \"/ccb/salz4-3/hji20/off-target-probe-checker/results/bt2/xenium_human_breast_gene_expression_panel_probe_sequences.bam\""
   ]
  },
  {
   "cell_type": "code",
   "execution_count": 4,
   "metadata": {},
   "outputs": [
    {
     "name": "stdout",
     "output_type": "stream",
     "text": [
      "ENSG00000127951|FGL2|e520e9b\n",
      "ENSG00000127951|FGL2|8b24f03\n",
      "ENSG00000127951|FGL2|759a825\n",
      "ENSG00000127951|FGL2|dc67d31\n",
      "ENSG00000127951|FGL2|73aadf1\n",
      "ENSG00000198851|CD3E|02369ef\n",
      "ENSG00000271503|CCL5|e28edbf\n",
      "ENSG00000166428|PLD4|6696a0b\n",
      "ENSG00000166428|PLD4|f5bb72b\n",
      "ENSG00000166428|PLD4|0449862\n",
      "ENSG00000166428|PLD4|937df62\n",
      "ENSG00000166428|PLD4|9982460\n",
      "ENSG00000166428|PLD4|d4621d0\n",
      "ENSG00000166428|PLD4|3c5cd33\n",
      "ENSG00000166428|PLD4|caa61e4\n",
      "ENSG00000166428|PLD4|567ab93\n",
      "ENSG00000166428|PLD4|34aae6b\n",
      "ENSG00000166428|PLD4|a0daecf\n",
      "ENSG00000166428|PLD4|6a3fa57\n",
      "ENSG00000153563|CD8A|651fabe\n",
      "ENSG00000153563|CD8A|9d95389\n",
      "ENSG00000153563|CD8A|0710972\n",
      "ENSG00000153563|CD8A|da9ac06\n",
      "ENSG00000132170|PPARG|5d8a10b\n",
      "ENSG00000132170|PPARG|b660a48\n",
      "ENSG00000196683|TOMM7|8205364\n",
      "ENSG00000196683|TOMM7|d2ffb7c\n",
      "ENSG00000196683|TOMM7|e89014c\n",
      "ENSG00000196683|TOMM7|6b8d206\n",
      "ENSG00000169083|AR|a0c6719\n",
      "ENSG00000168421|RHOH|fe6d4f6\n"
     ]
    }
   ],
   "source": [
    "amat = dict()\n",
    "with pysam.AlignmentFile(fn, 'rb') as fh:\n",
    "    for brec in fh:\n",
    "        qname = brec.query_name\n",
    "        if brec.is_unmapped: # highly likely to be intergenic\n",
    "            print(qname)\n",
    "        if qname not in amat:\n",
    "            amat[qname] = [brec.is_reverse]\n",
    "        else:\n",
    "            amat[qname].append(brec.is_reverse)"
   ]
  },
  {
   "cell_type": "code",
   "execution_count": 5,
   "metadata": {},
   "outputs": [
    {
     "name": "stdout",
     "output_type": "stream",
     "text": [
      "2430 reads with only REV alignments\n"
     ]
    }
   ],
   "source": [
    "rev_only = []\n",
    "for qname in amat:\n",
    "    if False in amat[qname]:\n",
    "        continue\n",
    "    else:\n",
    "        rev_only.append(qname)\n",
    "print(f'{len(rev_only)} reads with only REV alignments')"
   ]
  },
  {
   "cell_type": "code",
   "execution_count": 6,
   "metadata": {},
   "outputs": [],
   "source": [
    "genes = set()\n",
    "for qname in rev_only:\n",
    "    gene = qname.split('|')[0]\n",
    "    genes.add(gene)"
   ]
  },
  {
   "cell_type": "code",
   "execution_count": 10,
   "metadata": {},
   "outputs": [],
   "source": [
    "genes = set()\n",
    "for qname in rev_only:\n",
    "    temp = qname.split('|')\n",
    "    gene = f'{temp[0]}|{temp[1]}'\n",
    "    genes.add(gene)"
   ]
  },
  {
   "cell_type": "code",
   "execution_count": 11,
   "metadata": {},
   "outputs": [
    {
     "data": {
      "text/plain": [
       "144"
      ]
     },
     "execution_count": 11,
     "metadata": {},
     "output_type": "execute_result"
    }
   ],
   "source": [
    "len(genes)"
   ]
  },
  {
   "cell_type": "code",
   "execution_count": 13,
   "metadata": {},
   "outputs": [
    {
     "name": "stdout",
     "output_type": "stream",
     "text": [
      "ENSG00000137285|TUBB2B|86523ef\n",
      "ENSG00000137285|TUBB2B|950c98d\n",
      "ENSG00000137285|TUBB2B|2c3eb89\n",
      "ENSG00000137285|TUBB2B|ec17a71\n",
      "ENSG00000137285|TUBB2B|2b7cc0a\n",
      "ENSG00000137285|TUBB2B|fb83179\n",
      "ENSG00000137285|TUBB2B|4d5e0a1\n",
      "ENSG00000137285|TUBB2B|1dec8c0\n"
     ]
    }
   ],
   "source": [
    "for qname in rev_only:\n",
    "    if \"ENSG00000137285\" in qname: print(qname)"
   ]
  },
  {
   "cell_type": "markdown",
   "metadata": {},
   "source": [
    "^^ are these all genes on reverse strand?"
   ]
  },
  {
   "cell_type": "code",
   "execution_count": 12,
   "metadata": {},
   "outputs": [],
   "source": [
    "out_fn = \"/ccb/salz4-3/hji20/off-target-probe-checker/rev_only_genes.txt\"\n",
    "with open(out_fn, 'w') as fh:\n",
    "    for x in genes: fh.write(f'{x}\\n')"
   ]
  },
  {
   "cell_type": "code",
   "execution_count": 14,
   "metadata": {},
   "outputs": [
    {
     "data": {
      "text/html": [
       "<div>\n",
       "<style scoped>\n",
       "    .dataframe tbody tr th:only-of-type {\n",
       "        vertical-align: middle;\n",
       "    }\n",
       "\n",
       "    .dataframe tbody tr th {\n",
       "        vertical-align: top;\n",
       "    }\n",
       "\n",
       "    .dataframe thead th {\n",
       "        text-align: right;\n",
       "    }\n",
       "</style>\n",
       "<table border=\"1\" class=\"dataframe\">\n",
       "  <thead>\n",
       "    <tr style=\"text-align: right;\">\n",
       "      <th></th>\n",
       "      <th>chr</th>\n",
       "      <th>src</th>\n",
       "      <th>feature</th>\n",
       "      <th>start</th>\n",
       "      <th>end</th>\n",
       "      <th>score</th>\n",
       "      <th>strand</th>\n",
       "      <th>frame</th>\n",
       "      <th>attribute</th>\n",
       "    </tr>\n",
       "  </thead>\n",
       "  <tbody>\n",
       "    <tr>\n",
       "      <th>0</th>\n",
       "      <td>chr1</td>\n",
       "      <td>HAVANA</td>\n",
       "      <td>gene</td>\n",
       "      <td>11121.0</td>\n",
       "      <td>24894.0</td>\n",
       "      <td>.</td>\n",
       "      <td>+</td>\n",
       "      <td>.</td>\n",
       "      <td>ID=ENSG00000290825.2;gene_id=ENSG00000290825.2...</td>\n",
       "    </tr>\n",
       "    <tr>\n",
       "      <th>1</th>\n",
       "      <td>chr1</td>\n",
       "      <td>HAVANA</td>\n",
       "      <td>transcript</td>\n",
       "      <td>11426.0</td>\n",
       "      <td>14409.0</td>\n",
       "      <td>.</td>\n",
       "      <td>+</td>\n",
       "      <td>.</td>\n",
       "      <td>ID=ENST00000832828.1;Parent=ENSG00000290825.2;...</td>\n",
       "    </tr>\n",
       "    <tr>\n",
       "      <th>2</th>\n",
       "      <td>chr1</td>\n",
       "      <td>HAVANA</td>\n",
       "      <td>exon</td>\n",
       "      <td>11426.0</td>\n",
       "      <td>11671.0</td>\n",
       "      <td>.</td>\n",
       "      <td>+</td>\n",
       "      <td>.</td>\n",
       "      <td>ID=exon:ENST00000832828.1:1;Parent=ENST0000083...</td>\n",
       "    </tr>\n",
       "    <tr>\n",
       "      <th>3</th>\n",
       "      <td>chr1</td>\n",
       "      <td>HAVANA</td>\n",
       "      <td>exon</td>\n",
       "      <td>12010.0</td>\n",
       "      <td>12227.0</td>\n",
       "      <td>.</td>\n",
       "      <td>+</td>\n",
       "      <td>.</td>\n",
       "      <td>ID=exon:ENST00000832828.1:2;Parent=ENST0000083...</td>\n",
       "    </tr>\n",
       "    <tr>\n",
       "      <th>4</th>\n",
       "      <td>chr1</td>\n",
       "      <td>HAVANA</td>\n",
       "      <td>exon</td>\n",
       "      <td>12613.0</td>\n",
       "      <td>12721.0</td>\n",
       "      <td>.</td>\n",
       "      <td>+</td>\n",
       "      <td>.</td>\n",
       "      <td>ID=exon:ENST00000832828.1:3;Parent=ENST0000083...</td>\n",
       "    </tr>\n",
       "  </tbody>\n",
       "</table>\n",
       "</div>"
      ],
      "text/plain": [
       "    chr     src     feature    start      end score strand frame  \\\n",
       "0  chr1  HAVANA        gene  11121.0  24894.0     .      +     .   \n",
       "1  chr1  HAVANA  transcript  11426.0  14409.0     .      +     .   \n",
       "2  chr1  HAVANA        exon  11426.0  11671.0     .      +     .   \n",
       "3  chr1  HAVANA        exon  12010.0  12227.0     .      +     .   \n",
       "4  chr1  HAVANA        exon  12613.0  12721.0     .      +     .   \n",
       "\n",
       "                                           attribute  \n",
       "0  ID=ENSG00000290825.2;gene_id=ENSG00000290825.2...  \n",
       "1  ID=ENST00000832828.1;Parent=ENSG00000290825.2;...  \n",
       "2  ID=exon:ENST00000832828.1:1;Parent=ENST0000083...  \n",
       "3  ID=exon:ENST00000832828.1:2;Parent=ENST0000083...  \n",
       "4  ID=exon:ENST00000832828.1:3;Parent=ENST0000083...  "
      ]
     },
     "execution_count": 14,
     "metadata": {},
     "output_type": "execute_result"
    }
   ],
   "source": [
    "import pandas as pd\n",
    "\n",
    "fn = \"/ccb/salz4-3/hji20/off-target-probe-checker/data/gencode.v47.basic.annotation.fmted.gff\"\n",
    "df = pd.read_csv(fn, sep='\\t', header=None)\n",
    "df.columns = ['chr', 'src', 'feature', 'start', 'end', 'score', 'strand', 'frame', 'attribute']\n",
    "df.head()"
   ]
  },
  {
   "cell_type": "code",
   "execution_count": 24,
   "metadata": {},
   "outputs": [],
   "source": [
    "def get_gid(s):\n",
    "    temp = s.split(';')\n",
    "    tid = None\n",
    "    for x in temp:\n",
    "        kv = x.split('=')\n",
    "        if len(kv) != 2: continue\n",
    "        if kv[0] == 'ID':\n",
    "            tid = kv[1]\n",
    "            break\n",
    "    return tid\n",
    "\n",
    "ginfos = dict()\n",
    "for i, row in df.iterrows():\n",
    "    if row['feature'] == 'gene':\n",
    "        gid = get_gid(row['attribute']).split('.')[0]\n",
    "        if not gid: break; print(\"error parsing gene ID\")\n",
    "        ginfos[gid] = row['strand']"
   ]
  },
  {
   "cell_type": "code",
   "execution_count": 42,
   "metadata": {},
   "outputs": [],
   "source": [
    "for x in genes:\n",
    "    if ginfos[x] == '+': print(x); break"
   ]
  },
  {
   "cell_type": "markdown",
   "metadata": {},
   "source": [
    "^^ all above cases are genes on the reverse strand"
   ]
  }
 ],
 "metadata": {
  "kernelspec": {
   "display_name": "Python 3 (ipykernel)",
   "language": "python",
   "name": "python3"
  }
 },
 "nbformat": 4,
 "nbformat_minor": 2
}
