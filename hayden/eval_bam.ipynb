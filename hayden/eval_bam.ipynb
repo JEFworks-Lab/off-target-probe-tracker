{
 "cells": [
  {
   "cell_type": "code",
   "execution_count": 1,
   "metadata": {},
   "outputs": [],
   "source": [
    "import pysam\n",
    "import pyfastx"
   ]
  },
  {
   "cell_type": "code",
   "execution_count": 4,
   "metadata": {},
   "outputs": [],
   "source": [
    "fn = \"/ccb/salz4-3/hji20/off-target-probe-checker/results/bt2/xenium_human_breast_gene_expression_panel_probe_sequences.bam\""
   ]
  },
  {
   "cell_type": "code",
   "execution_count": 5,
   "metadata": {},
   "outputs": [],
   "source": [
    "amat = dict()\n",
    "unmapped = []\n",
    "with pysam.AlignmentFile(fn, 'rb') as fh:\n",
    "    for brec in fh:\n",
    "        qname = brec.query_name\n",
    "        if brec.is_unmapped: # highly likely to be intergenic\n",
    "            unmapped.append(qname)\n",
    "        if qname not in amat:\n",
    "            amat[qname] = [brec.is_reverse]\n",
    "        else:\n",
    "            amat[qname].append(brec.is_reverse)"
   ]
  },
  {
   "cell_type": "markdown",
   "metadata": {},
   "source": [
    "create a fasta file containing probe sequences with no alignment:"
   ]
  },
  {
   "cell_type": "code",
   "execution_count": 8,
   "metadata": {},
   "outputs": [],
   "source": [
    "fa = pyfastx.Fasta(\"/ccb/salz4-3/hji20/off-target-probe-checker/data/xenium_human_breast_gene_expression_panel_probe_sequences.fasta\")\n",
    "out_fn = \"/ccb/salz4-3/hji20/off-target-probe-checker/data/xenium_human_breast_gepps.unmapped.fa\"\n",
    "with open(out_fn, 'w') as fh:\n",
    "    for ent in fa:\n",
    "        if ent.name in unmapped:\n",
    "            fh.write(ent.raw)"
   ]
  },
  {
   "cell_type": "code",
   "execution_count": 10,
   "metadata": {},
   "outputs": [
    {
     "name": "stdout",
     "output_type": "stream",
     "text": [
      "2430 out of 4809 reads with only REV alignments\n"
     ]
    }
   ],
   "source": [
    "rev_only = []\n",
    "for qname in amat:\n",
    "    if False in amat[qname]:\n",
    "        continue\n",
    "    else:\n",
    "        rev_only.append(qname)\n",
    "print(f'{len(rev_only)} out of {len(fa)} reads with only REV alignments')"
   ]
  },
  {
   "cell_type": "code",
   "execution_count": 6,
   "metadata": {},
   "outputs": [],
   "source": [
    "genes = set()\n",
    "for qname in rev_only:\n",
    "    gene = qname.split('|')[0]\n",
    "    genes.add(gene)"
   ]
  },
  {
   "cell_type": "code",
   "execution_count": 10,
   "metadata": {},
   "outputs": [],
   "source": [
    "genes = set()\n",
    "for qname in rev_only:\n",
    "    temp = qname.split('|')\n",
    "    gene = f'{temp[0]}|{temp[1]}'\n",
    "    genes.add(gene)"
   ]
  },
  {
   "cell_type": "code",
   "execution_count": 11,
   "metadata": {},
   "outputs": [
    {
     "data": {
      "text/plain": [
       "144"
      ]
     },
     "execution_count": 11,
     "metadata": {},
     "output_type": "execute_result"
    }
   ],
   "source": [
    "len(genes)"
   ]
  },
  {
   "cell_type": "code",
   "execution_count": 13,
   "metadata": {},
   "outputs": [
    {
     "name": "stdout",
     "output_type": "stream",
     "text": [
      "ENSG00000137285|TUBB2B|86523ef\n",
      "ENSG00000137285|TUBB2B|950c98d\n",
      "ENSG00000137285|TUBB2B|2c3eb89\n",
      "ENSG00000137285|TUBB2B|ec17a71\n",
      "ENSG00000137285|TUBB2B|2b7cc0a\n",
      "ENSG00000137285|TUBB2B|fb83179\n",
      "ENSG00000137285|TUBB2B|4d5e0a1\n",
      "ENSG00000137285|TUBB2B|1dec8c0\n"
     ]
    }
   ],
   "source": [
    "for qname in rev_only:\n",
    "    if \"ENSG00000137285\" in qname: print(qname)"
   ]
  },
  {
   "cell_type": "markdown",
   "metadata": {},
   "source": [
    "^^ are these all genes on reverse strand?"
   ]
  },
  {
   "cell_type": "code",
   "execution_count": 12,
   "metadata": {},
   "outputs": [],
   "source": [
    "out_fn = \"/ccb/salz4-3/hji20/off-target-probe-checker/rev_only_genes.txt\"\n",
    "with open(out_fn, 'w') as fh:\n",
    "    for x in genes: fh.write(f'{x}\\n')"
   ]
  },
  {
   "cell_type": "code",
   "execution_count": 14,
   "metadata": {},
   "outputs": [
    {
     "data": {
      "text/html": [
       "<div>\n",
       "<style scoped>\n",
       "    .dataframe tbody tr th:only-of-type {\n",
       "        vertical-align: middle;\n",
       "    }\n",
       "\n",
       "    .dataframe tbody tr th {\n",
       "        vertical-align: top;\n",
       "    }\n",
       "\n",
       "    .dataframe thead th {\n",
       "        text-align: right;\n",
       "    }\n",
       "</style>\n",
       "<table border=\"1\" class=\"dataframe\">\n",
       "  <thead>\n",
       "    <tr style=\"text-align: right;\">\n",
       "      <th></th>\n",
       "      <th>chr</th>\n",
       "      <th>src</th>\n",
       "      <th>feature</th>\n",
       "      <th>start</th>\n",
       "      <th>end</th>\n",
       "      <th>score</th>\n",
       "      <th>strand</th>\n",
       "      <th>frame</th>\n",
       "      <th>attribute</th>\n",
       "    </tr>\n",
       "  </thead>\n",
       "  <tbody>\n",
       "    <tr>\n",
       "      <th>0</th>\n",
       "      <td>chr1</td>\n",
       "      <td>HAVANA</td>\n",
       "      <td>gene</td>\n",
       "      <td>11121.0</td>\n",
       "      <td>24894.0</td>\n",
       "      <td>.</td>\n",
       "      <td>+</td>\n",
       "      <td>.</td>\n",
       "      <td>ID=ENSG00000290825.2;gene_id=ENSG00000290825.2...</td>\n",
       "    </tr>\n",
       "    <tr>\n",
       "      <th>1</th>\n",
       "      <td>chr1</td>\n",
       "      <td>HAVANA</td>\n",
       "      <td>transcript</td>\n",
       "      <td>11426.0</td>\n",
       "      <td>14409.0</td>\n",
       "      <td>.</td>\n",
       "      <td>+</td>\n",
       "      <td>.</td>\n",
       "      <td>ID=ENST00000832828.1;Parent=ENSG00000290825.2;...</td>\n",
       "    </tr>\n",
       "    <tr>\n",
       "      <th>2</th>\n",
       "      <td>chr1</td>\n",
       "      <td>HAVANA</td>\n",
       "      <td>exon</td>\n",
       "      <td>11426.0</td>\n",
       "      <td>11671.0</td>\n",
       "      <td>.</td>\n",
       "      <td>+</td>\n",
       "      <td>.</td>\n",
       "      <td>ID=exon:ENST00000832828.1:1;Parent=ENST0000083...</td>\n",
       "    </tr>\n",
       "    <tr>\n",
       "      <th>3</th>\n",
       "      <td>chr1</td>\n",
       "      <td>HAVANA</td>\n",
       "      <td>exon</td>\n",
       "      <td>12010.0</td>\n",
       "      <td>12227.0</td>\n",
       "      <td>.</td>\n",
       "      <td>+</td>\n",
       "      <td>.</td>\n",
       "      <td>ID=exon:ENST00000832828.1:2;Parent=ENST0000083...</td>\n",
       "    </tr>\n",
       "    <tr>\n",
       "      <th>4</th>\n",
       "      <td>chr1</td>\n",
       "      <td>HAVANA</td>\n",
       "      <td>exon</td>\n",
       "      <td>12613.0</td>\n",
       "      <td>12721.0</td>\n",
       "      <td>.</td>\n",
       "      <td>+</td>\n",
       "      <td>.</td>\n",
       "      <td>ID=exon:ENST00000832828.1:3;Parent=ENST0000083...</td>\n",
       "    </tr>\n",
       "  </tbody>\n",
       "</table>\n",
       "</div>"
      ],
      "text/plain": [
       "    chr     src     feature    start      end score strand frame  \\\n",
       "0  chr1  HAVANA        gene  11121.0  24894.0     .      +     .   \n",
       "1  chr1  HAVANA  transcript  11426.0  14409.0     .      +     .   \n",
       "2  chr1  HAVANA        exon  11426.0  11671.0     .      +     .   \n",
       "3  chr1  HAVANA        exon  12010.0  12227.0     .      +     .   \n",
       "4  chr1  HAVANA        exon  12613.0  12721.0     .      +     .   \n",
       "\n",
       "                                           attribute  \n",
       "0  ID=ENSG00000290825.2;gene_id=ENSG00000290825.2...  \n",
       "1  ID=ENST00000832828.1;Parent=ENSG00000290825.2;...  \n",
       "2  ID=exon:ENST00000832828.1:1;Parent=ENST0000083...  \n",
       "3  ID=exon:ENST00000832828.1:2;Parent=ENST0000083...  \n",
       "4  ID=exon:ENST00000832828.1:3;Parent=ENST0000083...  "
      ]
     },
     "execution_count": 14,
     "metadata": {},
     "output_type": "execute_result"
    }
   ],
   "source": [
    "import pandas as pd\n",
    "\n",
    "fn = \"/ccb/salz4-3/hji20/off-target-probe-checker/data/gencode.v47.basic.annotation.fmted.gff\"\n",
    "df = pd.read_csv(fn, sep='\\t', header=None)\n",
    "df.columns = ['chr', 'src', 'feature', 'start', 'end', 'score', 'strand', 'frame', 'attribute']\n",
    "df.head()"
   ]
  },
  {
   "cell_type": "code",
   "execution_count": 24,
   "metadata": {},
   "outputs": [],
   "source": [
    "def get_gid(s):\n",
    "    temp = s.split(';')\n",
    "    tid = None\n",
    "    for x in temp:\n",
    "        kv = x.split('=')\n",
    "        if len(kv) != 2: continue\n",
    "        if kv[0] == 'ID':\n",
    "            tid = kv[1]\n",
    "            break\n",
    "    return tid\n",
    "\n",
    "ginfos = dict()\n",
    "for i, row in df.iterrows():\n",
    "    if row['feature'] == 'gene':\n",
    "        gid = get_gid(row['attribute']).split('.')[0]\n",
    "        if not gid: break; print(\"error parsing gene ID\")\n",
    "        ginfos[gid] = row['strand']"
   ]
  },
  {
   "cell_type": "code",
   "execution_count": 42,
   "metadata": {},
   "outputs": [],
   "source": [
    "for x in genes:\n",
    "    if ginfos[x] == '+': print(x); break"
   ]
  },
  {
   "cell_type": "markdown",
   "metadata": {},
   "source": [
    "^^ all above cases are genes on the reverse strand"
   ]
  },
  {
   "cell_type": "code",
   "execution_count": 4,
   "metadata": {},
   "outputs": [],
   "source": [
    "fn = \"/ccb/salz4-3/hji20/off-target-probe-checker/results/bt2/temp.bam\"\n",
    "unmapped_1 = []\n",
    "with pysam.AlignmentFile(fn, 'rb') as fh:\n",
    "    for brec in fh:\n",
    "        qname = brec.query_name\n",
    "        if brec.is_unmapped: # highly likely to be intergenic\n",
    "            unmapped_1.append(qname)"
   ]
  },
  {
   "cell_type": "code",
   "execution_count": 5,
   "metadata": {},
   "outputs": [],
   "source": [
    "fn = \"/ccb/salz4-3/hji20/off-target-probe-checker/results/bt2/xenium_human_breast_gene_expression_panel_probe_sequences.bam\"\n",
    "unmapped_2 = []\n",
    "with pysam.AlignmentFile(fn, 'rb') as fh:\n",
    "    for brec in fh:\n",
    "        qname = brec.query_name\n",
    "        if brec.is_unmapped: # highly likely to be intergenic\n",
    "            unmapped_2.append(qname)"
   ]
  },
  {
   "cell_type": "code",
   "execution_count": 6,
   "metadata": {},
   "outputs": [
    {
     "name": "stdout",
     "output_type": "stream",
     "text": [
      "ENSG00000184293|CLECL1|ad68b18\n",
      "ENSG00000184293|CLECL1|b96bdcf\n",
      "ENSG00000184293|CLECL1|04513e0\n",
      "ENSG00000184293|CLECL1|c5726c8\n"
     ]
    }
   ],
   "source": [
    "for x in unmapped_1:\n",
    "    if x not in unmapped_2:\n",
    "        print(x)"
   ]
  }
 ],
 "metadata": {
  "kernelspec": {
   "display_name": "Python 3 (ipykernel)",
   "language": "python",
   "name": "python3"
  },
  "language_info": {
   "codemirror_mode": {
    "name": "ipython",
    "version": 3
   },
   "file_extension": ".py",
   "mimetype": "text/x-python",
   "name": "python",
   "nbconvert_exporter": "python",
   "pygments_lexer": "ipython3",
   "version": "3.9.15"
  }
 },
 "nbformat": 4,
 "nbformat_minor": 2
}
