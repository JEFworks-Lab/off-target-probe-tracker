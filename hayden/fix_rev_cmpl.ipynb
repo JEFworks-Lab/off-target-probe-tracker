{
 "cells": [
  {
   "cell_type": "code",
   "execution_count": 50,
   "metadata": {},
   "outputs": [],
   "source": [
    "import pysam\n",
    "import pyfastx\n",
    "import pandas as pd\n",
    "from tqdm import tqdm\n",
    "from Bio.Seq import Seq"
   ]
  },
  {
   "cell_type": "markdown",
   "metadata": {},
   "source": [
    "an rev cmpl error is defined as:\n",
    "- a probe sequence matches on the opposite strand of the targeted gene\n",
    "\n",
    "first load the probe - gene relationships based on probe names:"
   ]
  },
  {
   "cell_type": "code",
   "execution_count": 13,
   "metadata": {},
   "outputs": [],
   "source": [
    "probes = pyfastx.Fasta(\"/ccb/salz4-3/hji20/off-target-probe-checker/data/xenium_human_breast_gene_expression_panel_probe_sequences.fasta\")"
   ]
  },
  {
   "cell_type": "code",
   "execution_count": 14,
   "metadata": {},
   "outputs": [],
   "source": [
    "probe_targets = dict()\n",
    "for probe in probes:\n",
    "    temp = probe.name.split(\"|\")\n",
    "    gid = temp[0]\n",
    "    gname = temp[1] # caution! the gene name may have changed or a synonym exists\n",
    "    probe_targets[probe.name] = (gid, gname)"
   ]
  },
  {
   "cell_type": "markdown",
   "metadata": {},
   "source": [
    "I want to be able to check the alignments to transcripts belonging to a given target gene, so I load GENCODE reference infos:"
   ]
  },
  {
   "cell_type": "code",
   "execution_count": 15,
   "metadata": {},
   "outputs": [
    {
     "data": {
      "text/html": [
       "<div>\n",
       "<style scoped>\n",
       "    .dataframe tbody tr th:only-of-type {\n",
       "        vertical-align: middle;\n",
       "    }\n",
       "\n",
       "    .dataframe tbody tr th {\n",
       "        vertical-align: top;\n",
       "    }\n",
       "\n",
       "    .dataframe thead th {\n",
       "        text-align: right;\n",
       "    }\n",
       "</style>\n",
       "<table border=\"1\" class=\"dataframe\">\n",
       "  <thead>\n",
       "    <tr style=\"text-align: right;\">\n",
       "      <th></th>\n",
       "      <th>chr</th>\n",
       "      <th>src</th>\n",
       "      <th>feature</th>\n",
       "      <th>start</th>\n",
       "      <th>end</th>\n",
       "      <th>score</th>\n",
       "      <th>strand</th>\n",
       "      <th>frame</th>\n",
       "      <th>attribute</th>\n",
       "    </tr>\n",
       "  </thead>\n",
       "  <tbody>\n",
       "    <tr>\n",
       "      <th>0</th>\n",
       "      <td>chr1</td>\n",
       "      <td>HAVANA</td>\n",
       "      <td>gene</td>\n",
       "      <td>11121.0</td>\n",
       "      <td>24894.0</td>\n",
       "      <td>.</td>\n",
       "      <td>+</td>\n",
       "      <td>.</td>\n",
       "      <td>ID=ENSG00000290825.2;gene_id=ENSG00000290825.2...</td>\n",
       "    </tr>\n",
       "    <tr>\n",
       "      <th>1</th>\n",
       "      <td>chr1</td>\n",
       "      <td>HAVANA</td>\n",
       "      <td>transcript</td>\n",
       "      <td>11426.0</td>\n",
       "      <td>14409.0</td>\n",
       "      <td>.</td>\n",
       "      <td>+</td>\n",
       "      <td>.</td>\n",
       "      <td>ID=ENST00000832828.1;Parent=ENSG00000290825.2;...</td>\n",
       "    </tr>\n",
       "    <tr>\n",
       "      <th>2</th>\n",
       "      <td>chr1</td>\n",
       "      <td>HAVANA</td>\n",
       "      <td>exon</td>\n",
       "      <td>11426.0</td>\n",
       "      <td>11671.0</td>\n",
       "      <td>.</td>\n",
       "      <td>+</td>\n",
       "      <td>.</td>\n",
       "      <td>ID=exon:ENST00000832828.1:1;Parent=ENST0000083...</td>\n",
       "    </tr>\n",
       "    <tr>\n",
       "      <th>3</th>\n",
       "      <td>chr1</td>\n",
       "      <td>HAVANA</td>\n",
       "      <td>exon</td>\n",
       "      <td>12010.0</td>\n",
       "      <td>12227.0</td>\n",
       "      <td>.</td>\n",
       "      <td>+</td>\n",
       "      <td>.</td>\n",
       "      <td>ID=exon:ENST00000832828.1:2;Parent=ENST0000083...</td>\n",
       "    </tr>\n",
       "    <tr>\n",
       "      <th>4</th>\n",
       "      <td>chr1</td>\n",
       "      <td>HAVANA</td>\n",
       "      <td>exon</td>\n",
       "      <td>12613.0</td>\n",
       "      <td>12721.0</td>\n",
       "      <td>.</td>\n",
       "      <td>+</td>\n",
       "      <td>.</td>\n",
       "      <td>ID=exon:ENST00000832828.1:3;Parent=ENST0000083...</td>\n",
       "    </tr>\n",
       "  </tbody>\n",
       "</table>\n",
       "</div>"
      ],
      "text/plain": [
       "    chr     src     feature    start      end score strand frame  \\\n",
       "0  chr1  HAVANA        gene  11121.0  24894.0     .      +     .   \n",
       "1  chr1  HAVANA  transcript  11426.0  14409.0     .      +     .   \n",
       "2  chr1  HAVANA        exon  11426.0  11671.0     .      +     .   \n",
       "3  chr1  HAVANA        exon  12010.0  12227.0     .      +     .   \n",
       "4  chr1  HAVANA        exon  12613.0  12721.0     .      +     .   \n",
       "\n",
       "                                           attribute  \n",
       "0  ID=ENSG00000290825.2;gene_id=ENSG00000290825.2...  \n",
       "1  ID=ENST00000832828.1;Parent=ENSG00000290825.2;...  \n",
       "2  ID=exon:ENST00000832828.1:1;Parent=ENST0000083...  \n",
       "3  ID=exon:ENST00000832828.1:2;Parent=ENST0000083...  \n",
       "4  ID=exon:ENST00000832828.1:3;Parent=ENST0000083...  "
      ]
     },
     "execution_count": 15,
     "metadata": {},
     "output_type": "execute_result"
    }
   ],
   "source": [
    "fn = \"/ccb/salz4-3/hji20/off-target-probe-checker/data/gencode.v47.basic.annotation.fmted.gff\"\n",
    "df = pd.read_csv(fn, sep='\\t', header=None)\n",
    "df.columns = ['chr', 'src', 'feature', 'start', 'end', 'score', 'strand', 'frame', 'attribute']\n",
    "df.head()"
   ]
  },
  {
   "cell_type": "code",
   "execution_count": 16,
   "metadata": {},
   "outputs": [
    {
     "name": "stderr",
     "output_type": "stream",
     "text": [
      "0it [00:00, ?it/s]"
     ]
    },
    {
     "name": "stderr",
     "output_type": "stream",
     "text": [
      "2223391it [01:15, 29490.33it/s]"
     ]
    },
    {
     "name": "stdout",
     "output_type": "stream",
     "text": [
      "158338 transcripts loaded\n"
     ]
    },
    {
     "name": "stderr",
     "output_type": "stream",
     "text": [
      "\n"
     ]
    }
   ],
   "source": [
    "def get_tid(s): # with its parent\n",
    "    temp = s.split(';')\n",
    "    tid = None\n",
    "    pid = None\n",
    "    for x in temp:\n",
    "        kv = x.split('=')\n",
    "        if len(kv) != 2: continue\n",
    "        if kv[0] == 'ID':\n",
    "            tid = kv[1]\n",
    "        elif kv[0] == 'Parent':\n",
    "            pid = kv[1]\n",
    "            break\n",
    "    return tid, pid\n",
    "\n",
    "ginfos = dict() # <k,v> = <pid, [tid]>\n",
    "ctr = 0\n",
    "for i, row in tqdm(df.iterrows()):\n",
    "    if row['feature'] == 'transcript':\n",
    "        tid, pid = get_tid(row['attribute'])\n",
    "        ctr += 1\n",
    "        if not tid or not pid:\n",
    "            print(\"error parsing IDs\")\n",
    "            break\n",
    "        if pid not in ginfos:\n",
    "            ginfos[pid] = [tid]\n",
    "        else:\n",
    "            ginfos[pid].append(tid)\n",
    "print(f'{ctr} transcripts loaded')"
   ]
  },
  {
   "cell_type": "markdown",
   "metadata": {},
   "source": [
    "also create mapping from tid to gid for easy access:"
   ]
  },
  {
   "cell_type": "code",
   "execution_count": 17,
   "metadata": {},
   "outputs": [],
   "source": [
    "t2g_tbl = dict()\n",
    "for pid in ginfos:\n",
    "    for tid in ginfos[pid]:\n",
    "        t2g_tbl[tid] = pid"
   ]
  },
  {
   "cell_type": "code",
   "execution_count": 82,
   "metadata": {},
   "outputs": [],
   "source": [
    "aln_fn = \"/ccb/salz4-3/hji20/off-target-probe-checker/results/bt2/xenium_human_breast_gene_expression_panel_probe_sequences.bam\"\n",
    "\n",
    "probe_aln_dirs = dict()\n",
    "with pysam.AlignmentFile(aln_fn, 'rb') as fh:\n",
    "    for brec in fh:\n",
    "        if brec.is_unmapped: continue\n",
    "        qname = brec.query_name\n",
    "        target_gid, target_gname = probe_targets[qname]\n",
    "        tname = brec.reference_name\n",
    "        if qname not in probe_aln_dirs:\n",
    "            probe_aln_dirs[qname] = []\n",
    "        if target_gid == t2g_tbl[tname].split('.')[0]:\n",
    "            probe_aln_dirs[qname].append(brec.is_forward)"
   ]
  },
  {
   "cell_type": "code",
   "execution_count": 83,
   "metadata": {},
   "outputs": [
    {
     "data": {
      "text/plain": [
       "[]"
      ]
     },
     "execution_count": 83,
     "metadata": {},
     "output_type": "execute_result"
    }
   ],
   "source": [
    "probe_aln_dirs['ENSG00000184293|CLECL1|ad68b18']"
   ]
  },
  {
   "cell_type": "code",
   "execution_count": 92,
   "metadata": {},
   "outputs": [
    {
     "name": "stdout",
     "output_type": "stream",
     "text": [
      "ENSG00000184293|CLECL1|ad68b18\n",
      "ENSG00000184293|CLECL1|b96bdcf\n",
      "ENSG00000184293|CLECL1|04513e0\n",
      "ENSG00000184293|CLECL1|c5726c8\n",
      "ENSG00000117090|SLAMF1|135aee1\n",
      "ENSG00000128383|APOBEC3A|eba2db3\n",
      "2508\n"
     ]
    }
   ],
   "source": [
    "to_rc = []\n",
    "for qname in probe_aln_dirs:\n",
    "    if len(probe_aln_dirs[qname]) == 0:\n",
    "        print(qname)\n",
    "    elif all(probe_aln_dirs[qname]):\n",
    "        continue\n",
    "    else:\n",
    "        assert all(not x for x in probe_aln_dirs[qname])\n",
    "        to_rc.append(qname)\n",
    "print(len(to_rc))"
   ]
  },
  {
   "cell_type": "code",
   "execution_count": 85,
   "metadata": {},
   "outputs": [
    {
     "data": {
      "text/plain": [
       "True"
      ]
     },
     "execution_count": 85,
     "metadata": {},
     "output_type": "execute_result"
    }
   ],
   "source": [
    "'ENSG00000196616|ADH1B|07014f4' in to_rc"
   ]
  },
  {
   "cell_type": "markdown",
   "metadata": {},
   "source": [
    "this is slightly more than expected based on counting the number of reads with only REV alignments against transcriptome, investigating where this discrepancy comes from:"
   ]
  },
  {
   "cell_type": "code",
   "execution_count": 86,
   "metadata": {},
   "outputs": [],
   "source": [
    "amat = dict()\n",
    "unmapped = []\n",
    "with pysam.AlignmentFile(aln_fn, 'rb') as fh:\n",
    "    for brec in fh:\n",
    "        qname = brec.query_name\n",
    "        if brec.is_unmapped: # highly likely to be intergenic\n",
    "            unmapped.append(qname)\n",
    "        if qname not in amat:\n",
    "            amat[qname] = [brec.is_reverse]\n",
    "        else:\n",
    "            amat[qname].append(brec.is_reverse)"
   ]
  },
  {
   "cell_type": "code",
   "execution_count": 87,
   "metadata": {},
   "outputs": [
    {
     "name": "stdout",
     "output_type": "stream",
     "text": [
      "2412 out of 4809 reads with only REV alignments\n"
     ]
    }
   ],
   "source": [
    "rev_only = []\n",
    "for qname in amat:\n",
    "    if False in amat[qname]:\n",
    "        continue\n",
    "    else:\n",
    "        rev_only.append(qname)\n",
    "print(f'{len(rev_only)} out of {len(probes)} reads with only REV alignments')"
   ]
  },
  {
   "cell_type": "code",
   "execution_count": 88,
   "metadata": {},
   "outputs": [
    {
     "data": {
      "text/plain": [
       "[False, True, False, False, False]"
      ]
     },
     "execution_count": 88,
     "metadata": {},
     "output_type": "execute_result"
    }
   ],
   "source": [
    "amat['ENSG00000196628|TCF4|40e4db9']"
   ]
  },
  {
   "cell_type": "code",
   "execution_count": 89,
   "metadata": {},
   "outputs": [
    {
     "name": "stdout",
     "output_type": "stream",
     "text": [
      "ENSG00000261371|PECAM1|639cb44\n"
     ]
    }
   ],
   "source": [
    "for x in to_rc:\n",
    "    if x not in rev_only:\n",
    "        print(x)\n",
    "        break"
   ]
  },
  {
   "cell_type": "markdown",
   "metadata": {},
   "source": [
    "The number of wrongly oriented probe sequences is underestimated when the alignment records are used because accidentally there are FWD alignments to processed pseudogenes and etc.\n",
    "- we'll also have to proceed with just the protein coding transcripts (see below)"
   ]
  },
  {
   "cell_type": "code",
   "execution_count": 24,
   "metadata": {},
   "outputs": [
    {
     "name": "stderr",
     "output_type": "stream",
     "text": [
      "2223391it [01:15, 29435.56it/s]\n"
     ]
    }
   ],
   "source": [
    "def get_gtype(s):\n",
    "    temp = s.split(';')\n",
    "    gtype = None\n",
    "    gid = None\n",
    "    for x in temp:\n",
    "        kv = x.split('=')\n",
    "        if len(kv) != 2: continue\n",
    "        if kv[0] == 'ID':\n",
    "            gid = kv[1]\n",
    "        elif kv[0] == 'gene_type':\n",
    "            gtype = kv[1]\n",
    "            break\n",
    "    return gid, gtype\n",
    "\n",
    "pc_genes = []\n",
    "for i, row in tqdm(df.iterrows()):\n",
    "    if row['feature'] == 'gene':\n",
    "        gid, gtype = get_gtype(row['attribute'])\n",
    "        if gtype == \"protein_coding\":\n",
    "            pc_genes.append(gid)"
   ]
  },
  {
   "cell_type": "code",
   "execution_count": 25,
   "metadata": {},
   "outputs": [
    {
     "data": {
      "text/plain": [
       "20092"
      ]
     },
     "execution_count": 25,
     "metadata": {},
     "output_type": "execute_result"
    }
   ],
   "source": [
    "len(pc_genes)"
   ]
  },
  {
   "cell_type": "code",
   "execution_count": 26,
   "metadata": {},
   "outputs": [
    {
     "name": "stderr",
     "output_type": "stream",
     "text": [
      "2223391it [01:24, 26182.56it/s]\n"
     ]
    }
   ],
   "source": [
    "def get_ttype(s):\n",
    "    temp = s.split(';')\n",
    "    ttype = None\n",
    "    tid = None\n",
    "    pid = None\n",
    "    for x in temp:\n",
    "        kv = x.split('=')\n",
    "        if len(kv) != 2: continue\n",
    "        if kv[0] == 'ID':\n",
    "            tid = kv[1]\n",
    "        elif kv[0] == 'Parent':\n",
    "            pid = kv[1]\n",
    "        elif kv[0] == 'transcript_type':\n",
    "            ttype = kv[1]\n",
    "            break\n",
    "    return tid, pid, ttype\n",
    "\n",
    "pc_g2t = dict()\n",
    "for i, row in tqdm(df.iterrows()):\n",
    "    if row['feature'] == 'transcript':\n",
    "        tid, pid, ttype = get_ttype(row['attribute'])\n",
    "        if ttype == \"protein_coding\":\n",
    "            assert pid in pc_genes\n",
    "            if pid not in pc_g2t:\n",
    "                pc_g2t[pid] = [tid]\n",
    "            else:\n",
    "                pc_g2t[pid].append(tid)"
   ]
  },
  {
   "cell_type": "code",
   "execution_count": 27,
   "metadata": {},
   "outputs": [
    {
     "name": "stdout",
     "output_type": "stream",
     "text": [
      "ENSG00000285629.1\n",
      "ENSG00000211454.16\n",
      "ENSG00000270136.6\n",
      "ENSG00000255054.3\n",
      "ENSG00000254553.1\n",
      "ENSG00000271741.1\n",
      "ENSG00000283580.4\n",
      "ENSG00000284989.1\n",
      "ENSG00000288208.1\n",
      "ENSG00000285839.1\n",
      "ENSG00000256407.2\n",
      "ENSG00000271723.5\n",
      "ENSG00000284686.1\n",
      "ENSG00000271949.1\n",
      "ENSG00000289565.1\n",
      "ENSG00000285779.1\n",
      "ENSG00000285641.1\n",
      "ENSG00000160818.17\n",
      "ENSG00000196266.6\n",
      "ENSG00000249730.1\n",
      "ENSG00000256029.6\n",
      "ENSG00000270149.5\n",
      "ENSG00000244682.8\n",
      "ENSG00000285777.1\n",
      "ENSG00000286231.1\n",
      "ENSG00000288674.1\n",
      "ENSG00000270106.6\n",
      "ENSG00000135747.11\n",
      "ENSG00000197617.9\n",
      "ENSG00000228336.2\n",
      "ENSG00000227152.6\n",
      "ENSG00000286905.1\n",
      "ENSG00000276087.2\n",
      "ENSG00000285542.1\n",
      "ENSG00000273269.3\n",
      "ENSG00000279956.1\n",
      "ENSG00000273398.6\n",
      "ENSG00000204872.4\n",
      "ENSG00000264324.1\n",
      "ENSG00000159239.13\n",
      "ENSG00000274049.4\n",
      "ENSG00000289685.2\n",
      "ENSG00000241962.9\n",
      "ENSG00000284337.1\n",
      "ENSG00000257207.5\n",
      "ENSG00000283228.1\n",
      "ENSG00000280537.2\n",
      "ENSG00000284820.1\n",
      "ENSG00000286239.1\n",
      "ENSG00000284622.2\n",
      "ENSG00000258984.5\n",
      "ENSG00000288550.3\n",
      "ENSG00000272410.5\n",
      "ENSG00000268279.4\n",
      "ENSG00000293553.1\n",
      "ENSG00000283563.1\n",
      "ENSG00000273291.5\n",
      "ENSG00000283877.1\n",
      "ENSG00000243696.5\n",
      "ENSG00000272305.5\n",
      "ENSG00000213439.3\n",
      "ENSG00000232535.2\n",
      "ENSG00000285635.1\n",
      "ENSG00000285943.1\n",
      "ENSG00000274810.4\n",
      "ENSG00000285558.1\n",
      "ENSG00000260234.5\n",
      "ENSG00000284952.1\n",
      "ENSG00000248710.1\n",
      "ENSG00000288698.1\n",
      "ENSG00000272741.1\n",
      "ENSG00000273331.1\n",
      "ENSG00000290263.1\n",
      "ENSG00000290180.1\n",
      "ENSG00000249948.7\n",
      "ENSG00000284695.1\n",
      "ENSG00000285713.1\n",
      "ENSG00000286001.1\n",
      "ENSG00000288622.1\n",
      "ENSG00000273294.1\n",
      "ENSG00000288643.1\n",
      "ENSG00000285000.1\n",
      "ENSG00000258864.1\n",
      "ENSG00000281938.2\n",
      "ENSG00000273345.6\n",
      "ENSG00000279686.1\n",
      "ENSG00000285978.1\n",
      "ENSG00000259040.5\n",
      "ENSG00000265818.1\n",
      "ENSG00000272162.1\n",
      "ENSG00000182477.5\n",
      "ENSG00000251608.2\n",
      "ENSG00000254870.5\n",
      "ENSG00000255152.8\n",
      "ENSG00000258388.7\n",
      "ENSG00000285064.2\n",
      "ENSG00000124593.16\n",
      "ENSG00000288721.1\n",
      "ENSG00000288564.1\n",
      "ENSG00000272442.2\n",
      "ENSG00000243501.5\n",
      "ENSG00000271793.2\n",
      "ENSG00000213204.8\n",
      "ENSG00000255330.9\n",
      "ENSG00000257065.1\n",
      "ENSG00000280148.1\n",
      "ENSG00000285991.1\n",
      "ENSG00000286192.1\n",
      "ENSG00000281593.1\n",
      "ENSG00000254959.6\n",
      "ENSG00000284461.2\n",
      "ENSG00000272647.3\n",
      "ENSG00000292277.1\n",
      "ENSG00000205236.6\n",
      "ENSG00000267645.5\n",
      "ENSG00000288640.1\n",
      "ENSG00000237621.4\n",
      "ENSG00000176510.5\n",
      "ENSG00000283239.1\n",
      "ENSG00000254866.3\n",
      "ENSG00000254673.1\n",
      "ENSG00000188877.12\n",
      "ENSG00000285791.1\n",
      "ENSG00000258677.2\n",
      "ENSG00000276418.5\n",
      "ENSG00000226807.7\n",
      "ENSG00000290230.1\n",
      "ENSG00000271698.1\n",
      "ENSG00000288699.1\n",
      "ENSG00000285645.1\n",
      "ENSG00000243641.3\n",
      "ENSG00000256966.6\n",
      "ENSG00000255872.3\n",
      "ENSG00000285269.2\n",
      "ENSG00000257524.6\n",
      "ENSG00000289701.1\n",
      "ENSG00000204003.8\n",
      "ENSG00000272896.1\n",
      "ENSG00000284341.1\n",
      "ENSG00000182077.12\n",
      "ENSG00000283930.1\n",
      "ENSG00000178440.9\n",
      "ENSG00000272916.5\n",
      "ENSG00000276490.1\n",
      "ENSG00000270099.1\n",
      "ENSG00000269891.2\n",
      "ENSG00000289758.1\n",
      "ENSG00000285932.1\n",
      "ENSG00000255339.6\n",
      "ENSG00000270316.1\n",
      "ENSG00000266200.8\n",
      "ENSG00000286088.1\n",
      "ENSG00000258539.1\n",
      "ENSG00000254536.2\n",
      "ENSG00000273085.3\n",
      "ENSG00000239920.2\n",
      "ENSG00000181109.3\n",
      "ENSG00000283977.1\n",
      "ENSG00000256206.2\n",
      "ENSG00000260811.3\n",
      "ENSG00000225997.1\n",
      "ENSG00000254658.3\n",
      "ENSG00000272987.1\n",
      "ENSG00000241356.2\n",
      "ENSG00000181282.5\n",
      "ENSG00000288534.1\n",
      "ENSG00000254732.2\n",
      "ENSG00000255073.8\n",
      "ENSG00000255508.7\n",
      "ENSG00000234857.2\n",
      "ENSG00000273003.1\n",
      "ENSG00000285816.1\n",
      "ENSG00000287725.2\n",
      "ENSG00000289716.1\n",
      "ENSG00000204403.11\n",
      "ENSG00000254445.1\n",
      "ENSG00000255292.9\n",
      "ENSG00000255663.1\n",
      "ENSG00000255425.6\n",
      "ENSG00000181214.8\n",
      "ENSG00000285901.2\n",
      "ENSG00000272921.1\n",
      "ENSG00000285238.2\n",
      "ENSG00000290146.1\n",
      "ENSG00000284393.1\n",
      "ENSG00000255819.7\n",
      "ENSG00000257062.6\n",
      "ENSG00000285854.1\n",
      "ENSG00000205592.16\n",
      "ENSG00000288710.1\n",
      "ENSG00000289695.1\n",
      "ENSG00000285528.1\n",
      "ENSG00000258830.1\n",
      "ENSG00000287908.1\n",
      "ENSG00000257921.6\n",
      "ENSG00000288591.1\n",
      "ENSG00000228144.2\n",
      "ENSG00000258052.1\n",
      "ENSG00000258064.1\n",
      "ENSG00000256950.2\n",
      "ENSG00000256861.1\n",
      "ENSG00000273167.1\n",
      "ENSG00000281883.1\n",
      "ENSG00000285444.1\n",
      "ENSG00000176290.8\n",
      "ENSG00000196383.7\n",
      "ENSG00000258806.2\n",
      "ENSG00000259529.2\n",
      "ENSG00000259522.3\n",
      "ENSG00000258790.1\n",
      "ENSG00000257520.2\n",
      "ENSG00000289503.1\n",
      "ENSG00000258466.5\n",
      "ENSG00000258653.3\n",
      "ENSG00000259164.1\n",
      "ENSG00000258597.4\n",
      "ENSG00000273259.3\n",
      "ENSG00000257341.5\n",
      "ENSG00000214265.11\n",
      "ENSG00000259288.7\n",
      "ENSG00000258461.5\n",
      "ENSG00000285942.1\n",
      "ENSG00000284772.1\n",
      "ENSG00000262560.1\n",
      "ENSG00000259316.12\n",
      "ENSG00000273025.1\n",
      "ENSG00000260729.1\n",
      "ENSG00000284626.1\n",
      "ENSG00000261147.1\n",
      "ENSG00000284946.1\n",
      "ENSG00000261732.1\n",
      "ENSG00000285329.1\n",
      "ENSG00000261130.5\n",
      "ENSG00000261832.6\n",
      "ENSG00000280893.1\n",
      "ENSG00000281348.1\n",
      "ENSG00000261459.1\n",
      "ENSG00000282034.2\n",
      "ENSG00000288725.1\n",
      "ENSG00000260851.7\n",
      "ENSG00000265690.7\n",
      "ENSG00000261884.2\n",
      "ENSG00000259900.5\n",
      "ENSG00000261611.6\n",
      "ENSG00000310525.1\n",
      "ENSG00000260092.1\n",
      "ENSG00000287694.1\n",
      "ENSG00000262085.2\n",
      "ENSG00000262304.2\n",
      "ENSG00000257950.3\n",
      "ENSG00000262526.2\n",
      "ENSG00000262302.1\n",
      "ENSG00000261915.6\n",
      "ENSG00000262481.5\n",
      "ENSG00000286007.1\n",
      "ENSG00000277957.1\n",
      "ENSG00000262730.1\n",
      "ENSG00000263809.1\n",
      "ENSG00000255104.9\n",
      "ENSG00000266302.6\n",
      "ENSG00000264187.1\n",
      "ENSG00000266728.5\n",
      "ENSG00000275688.4\n",
      "ENSG00000264058.2\n",
      "ENSG00000262633.2\n",
      "ENSG00000259753.1\n",
      "ENSG00000266086.3\n",
      "ENSG00000285897.1\n",
      "ENSG00000264813.6\n",
      "ENSG00000288894.1\n",
      "ENSG00000125695.12\n",
      "ENSG00000266076.1\n",
      "ENSG00000284690.3\n",
      "ENSG00000267426.5\n",
      "ENSG00000261408.7\n",
      "ENSG00000267228.7\n",
      "ENSG00000266997.2\n",
      "ENSG00000267699.2\n",
      "ENSG00000267127.7\n",
      "ENSG00000267059.2\n",
      "ENSG00000273734.1\n",
      "ENSG00000267385.1\n",
      "ENSG00000267314.1\n",
      "ENSG00000268614.1\n",
      "ENSG00000268400.6\n",
      "ENSG00000288669.1\n",
      "ENSG00000167774.2\n",
      "ENSG00000167807.15\n",
      "ENSG00000267303.1\n",
      "ENSG00000267477.1\n",
      "ENSG00000257355.1\n",
      "ENSG00000286132.1\n",
      "ENSG00000213297.8\n",
      "ENSG00000269755.1\n",
      "ENSG00000269693.1\n",
      "ENSG00000269242.1\n",
      "ENSG00000285589.1\n",
      "ENSG00000141979.4\n",
      "ENSG00000268790.5\n",
      "ENSG00000269307.1\n",
      "ENSG00000268173.3\n",
      "ENSG00000268193.5\n",
      "ENSG00000269237.1\n",
      "ENSG00000267120.3\n",
      "ENSG00000188223.9\n",
      "ENSG00000267360.6\n",
      "ENSG00000267552.6\n",
      "ENSG00000272395.8\n",
      "ENSG00000268975.2\n",
      "ENSG00000171570.11\n",
      "ENSG00000268797.1\n",
      "ENSG00000285505.1\n",
      "ENSG00000267022.1\n",
      "ENSG00000268434.5\n",
      "ENSG00000283663.1\n",
      "ENSG00000269469.1\n",
      "ENSG00000269179.1\n",
      "ENSG00000161643.13\n",
      "ENSG00000269741.5\n",
      "ENSG00000269403.1\n",
      "ENSG00000221957.8\n",
      "ENSG00000267110.1\n",
      "ENSG00000267706.3\n",
      "ENSG00000293626.1\n",
      "ENSG00000268107.6\n",
      "ENSG00000269476.1\n",
      "ENSG00000283515.1\n",
      "ENSG00000274322.1\n",
      "ENSG00000256566.1\n",
      "ENSG00000289720.1\n",
      "ENSG00000261582.1\n",
      "ENSG00000272897.5\n",
      "ENSG00000277611.1\n",
      "ENSG00000254806.5\n",
      "ENSG00000254995.4\n",
      "ENSG00000026036.23\n",
      "ENSG00000273154.3\n",
      "ENSG00000288711.1\n",
      "ENSG00000288683.1\n",
      "ENSG00000286025.2\n",
      "ENSG00000284874.1\n",
      "ENSG00000277971.1\n",
      "ENSG00000291240.1\n",
      "ENSG00000099984.12\n",
      "ENSG00000258555.6\n",
      "ENSG00000286070.2\n",
      "ENSG00000100101.15\n",
      "ENSG00000284431.1\n",
      "ENSG00000205702.13\n",
      "ENSG00000289517.1\n",
      "ENSG00000254413.8\n",
      "ENSG00000285602.1\n",
      "ENSG00000285171.1\n",
      "ENSG00000284800.2\n",
      "ENSG00000276380.2\n",
      "ENSG00000284987.1\n",
      "ENSG00000288258.1\n"
     ]
    }
   ],
   "source": [
    "for pid in pc_genes:\n",
    "    if pid not in pc_g2t:\n",
    "        print(pid)"
   ]
  },
  {
   "cell_type": "markdown",
   "metadata": {},
   "source": [
    "examining above cases where genes showing `gene_type` of `protein_coding` but doesn't have a transcript with `transcript_type` of `protein_coding`, these are genes marked as pc but the annotated transcripts are read through or LoF (e.g., ENSG00000285629.1, ENSG00000211454.16). I believe this is safe to ignore and just isolate the functional mRNA transcript sequences from GENCODE Basic (v27)."
   ]
  },
  {
   "cell_type": "code",
   "execution_count": null,
   "metadata": {},
   "outputs": [],
   "source": [
    "pc_tids = []\n",
    "out_fn = \"/ccb/salz4-3/hji20/off-target-probe-checker/data/gencode_pc_g2t_mapping.csv\"\n",
    "with open(out_fn, 'w') as fh:\n",
    "    fh.write('gene_id,transcript_id\\n')\n",
    "    for x in pc_g2t:\n",
    "        for y in pc_g2t[x]:\n",
    "            pc_tids.append(y)\n",
    "            fh.write(f'{x},{y}\\n')"
   ]
  },
  {
   "cell_type": "markdown",
   "metadata": {},
   "source": [
    "SANITY CHECK: are all Xenium target genes present in above set?"
   ]
  },
  {
   "cell_type": "code",
   "execution_count": 39,
   "metadata": {},
   "outputs": [
    {
     "data": {
      "text/plain": [
       "{'ENSG00000184293', 'ENSG00000277734'}"
      ]
     },
     "execution_count": 39,
     "metadata": {},
     "output_type": "execute_result"
    }
   ],
   "source": [
    "pc_q2t_keys = set([x.split('.')[0] for x in pc_g2t.keys()])\n",
    "to_add = set()\n",
    "for probe in probe_targets:\n",
    "    gid, gname = probe_targets[probe]\n",
    "    if gid not in pc_q2t_keys:\n",
    "        to_add.add(gid)\n",
    "to_add"
   ]
  },
  {
   "cell_type": "markdown",
   "metadata": {},
   "source": [
    "There were 2 target genes with `gene_biotype` not set to protein coding. It's possible that there are additional genes that are protein coding but annotated as something else (e.g., `TR_C_gene`)\n",
    "- (Alternative) we could throw in anything with a CDS annotated on it? will that include pseudogenes?"
   ]
  },
  {
   "cell_type": "code",
   "execution_count": 41,
   "metadata": {},
   "outputs": [],
   "source": [
    "for pid in ginfos:\n",
    "    if pid.split('.')[0] in to_add:\n",
    "        for x in ginfos[pid]:\n",
    "            pc_tids.append(x)"
   ]
  },
  {
   "cell_type": "code",
   "execution_count": 42,
   "metadata": {},
   "outputs": [
    {
     "data": {
      "text/plain": [
       "64670"
      ]
     },
     "execution_count": 42,
     "metadata": {},
     "output_type": "execute_result"
    }
   ],
   "source": [
    "len(pc_tids) # inc by 2"
   ]
  },
  {
   "cell_type": "code",
   "execution_count": 43,
   "metadata": {},
   "outputs": [],
   "source": [
    "gencode_fa = pyfastx.Fasta(\"/ccb/salz4-3/hji20/off-target-probe-checker/data/gencode.v47.basic.annotation.fmted.fa\")\n",
    "out_fn = \"/ccb/salz4-3/hji20/off-target-probe-checker/data/gencode.v47.basic.annotation.fmted.pc_only.fa\"\n",
    "with open(out_fn, 'w') as fh:\n",
    "    for ent in gencode_fa:\n",
    "        if ent.name in pc_tids:\n",
    "            fh.write(ent.raw)"
   ]
  },
  {
   "cell_type": "markdown",
   "metadata": {},
   "source": [
    "Now, fix the probe sequence orientation:"
   ]
  },
  {
   "cell_type": "code",
   "execution_count": 93,
   "metadata": {},
   "outputs": [],
   "source": [
    "out_fn = \"/ccb/salz4-3/hji20/off-target-probe-checker/data/xenium_human_breast_gepps.fwd_oriented.fa\"\n",
    "with open(out_fn, 'w') as fh:\n",
    "    for ent in probes:\n",
    "        if ent.name in to_rc:\n",
    "            seq = Seq(ent.seq)\n",
    "            out_s = seq.reverse_complement()\n",
    "        else:\n",
    "            out_s = ent.seq\n",
    "        fh.write(f'>{ent.name}\\n{out_s}\\n')"
   ]
  },
  {
   "cell_type": "code",
   "execution_count": 94,
   "metadata": {},
   "outputs": [],
   "source": [
    "out_fn = \"/ccb/salz4-3/hji20/off-target-probe-checker/data/xenium_human_breast_gepps.flipped.lst\"\n",
    "with open(out_fn, 'w') as fh:\n",
    "    for qname in to_rc:\n",
    "        fh.write(f'{qname}\\n')"
   ]
  },
  {
   "cell_type": "code",
   "execution_count": 95,
   "metadata": {},
   "outputs": [
    {
     "name": "stdout",
     "output_type": "stream",
     "text": [
      "['ENSG00000127951|FGL2|e520e9b', 'ENSG00000127951|FGL2|8b24f03', 'ENSG00000127951|FGL2|759a825', 'ENSG00000127951|FGL2|dc67d31', 'ENSG00000127951|FGL2|73aadf1', 'ENSG00000198851|CD3E|02369ef', 'ENSG00000271503|CCL5|e28edbf', 'ENSG00000166428|PLD4|6696a0b', 'ENSG00000166428|PLD4|f5bb72b', 'ENSG00000166428|PLD4|0449862', 'ENSG00000166428|PLD4|937df62', 'ENSG00000166428|PLD4|9982460', 'ENSG00000166428|PLD4|d4621d0', 'ENSG00000166428|PLD4|3c5cd33', 'ENSG00000166428|PLD4|caa61e4', 'ENSG00000166428|PLD4|567ab93', 'ENSG00000166428|PLD4|34aae6b', 'ENSG00000166428|PLD4|a0daecf', 'ENSG00000166428|PLD4|6a3fa57', 'ENSG00000153563|CD8A|651fabe', 'ENSG00000153563|CD8A|9d95389', 'ENSG00000153563|CD8A|0710972', 'ENSG00000153563|CD8A|da9ac06', 'ENSG00000132170|PPARG|5d8a10b', 'ENSG00000196683|TOMM7|8205364', 'ENSG00000196683|TOMM7|d2ffb7c', 'ENSG00000196683|TOMM7|e89014c', 'ENSG00000196683|TOMM7|6b8d206', 'ENSG00000132170|PPARG|b660a48', 'ENSG00000169083|AR|a0c6719']\n"
     ]
    }
   ],
   "source": [
    "aln_fn = \"/ccb/salz4-3/hji20/off-target-probe-checker/results/bt2/xenium_human_breast_gepps.fwd_oriented.bam\"\n",
    "unmapped = []\n",
    "with pysam.AlignmentFile(aln_fn, 'rb') as fh:\n",
    "    for brec in fh:\n",
    "        qname = brec.query_name\n",
    "        if brec.is_unmapped: # highly likely to be intergenic\n",
    "            unmapped.append(qname)\n",
    "print(unmapped)"
   ]
  },
  {
   "cell_type": "code",
   "execution_count": 56,
   "metadata": {},
   "outputs": [
    {
     "name": "stdout",
     "output_type": "stream",
     "text": [
      "['ENSG00000127951|FGL2|e520e9b', 'ENSG00000127951|FGL2|8b24f03', 'ENSG00000127951|FGL2|759a825', 'ENSG00000127951|FGL2|dc67d31', 'ENSG00000127951|FGL2|73aadf1', 'ENSG00000198851|CD3E|02369ef', 'ENSG00000271503|CCL5|e28edbf', 'ENSG00000166428|PLD4|6696a0b', 'ENSG00000166428|PLD4|f5bb72b', 'ENSG00000166428|PLD4|0449862', 'ENSG00000166428|PLD4|937df62', 'ENSG00000166428|PLD4|9982460', 'ENSG00000166428|PLD4|d4621d0', 'ENSG00000166428|PLD4|3c5cd33', 'ENSG00000166428|PLD4|caa61e4', 'ENSG00000166428|PLD4|567ab93', 'ENSG00000166428|PLD4|34aae6b', 'ENSG00000166428|PLD4|a0daecf', 'ENSG00000166428|PLD4|6a3fa57', 'ENSG00000153563|CD8A|651fabe', 'ENSG00000153563|CD8A|9d95389', 'ENSG00000153563|CD8A|0710972', 'ENSG00000153563|CD8A|da9ac06', 'ENSG00000132170|PPARG|5d8a10b', 'ENSG00000132170|PPARG|b660a48', 'ENSG00000196683|TOMM7|8205364', 'ENSG00000196683|TOMM7|d2ffb7c', 'ENSG00000196683|TOMM7|e89014c', 'ENSG00000196683|TOMM7|6b8d206', 'ENSG00000169083|AR|a0c6719']\n"
     ]
    }
   ],
   "source": [
    "aln_fn = \"/ccb/salz4-3/hji20/off-target-probe-checker/results/bt2/xenium_human_breast_gene_expression_panel_probe_sequences.bam\"\n",
    "unmapped_2 = []\n",
    "with pysam.AlignmentFile(aln_fn, 'rb') as fh:\n",
    "    for brec in fh:\n",
    "        qname = brec.query_name\n",
    "        if brec.is_unmapped: # highly likely to be intergenic\n",
    "            unmapped_2.append(qname)\n",
    "print(unmapped_2)"
   ]
  },
  {
   "cell_type": "code",
   "execution_count": 99,
   "metadata": {},
   "outputs": [
    {
     "name": "stdout",
     "output_type": "stream",
     "text": [
      "30\t30\n"
     ]
    }
   ],
   "source": [
    "print(f'{len(unmapped)}\\t{len(unmapped_2)}')"
   ]
  },
  {
   "cell_type": "code",
   "execution_count": 97,
   "metadata": {},
   "outputs": [],
   "source": [
    "for x in unmapped:\n",
    "    if x not in unmapped_2:\n",
    "        print(x)"
   ]
  },
  {
   "cell_type": "code",
   "execution_count": 57,
   "metadata": {},
   "outputs": [],
   "source": [
    "out_fn = \"/ccb/salz4-3/hji20/off-target-probe-checker/data/xenium_human_breast_gepps.unmapped.fa\"\n",
    "with open(out_fn, 'w') as fh:\n",
    "    for ent in probes:\n",
    "        if ent.name in unmapped_2:\n",
    "            fh.write(ent.raw)"
   ]
  },
  {
   "cell_type": "code",
   "execution_count": 62,
   "metadata": {},
   "outputs": [
    {
     "name": "stdout",
     "output_type": "stream",
     "text": [
      "35\n"
     ]
    }
   ],
   "source": [
    "aln_fn = \"/ccb/salz4-3/hji20/off-target-probe-checker/results/bt2/xenium_human_breast_gepps.pc_only.bam\"\n",
    "unmapped_3 = []\n",
    "with pysam.AlignmentFile(aln_fn, 'rb') as fh:\n",
    "    for brec in fh:\n",
    "        if brec.is_unmapped:\n",
    "            unmapped_3.append(brec.query_name)\n",
    "print(len(unmapped_3))"
   ]
  },
  {
   "cell_type": "code",
   "execution_count": 63,
   "metadata": {},
   "outputs": [
    {
     "name": "stdout",
     "output_type": "stream",
     "text": [
      "ENSG00000184293|CLECL1|ad68b18\n",
      "ENSG00000184293|CLECL1|b96bdcf\n",
      "ENSG00000184293|CLECL1|04513e0\n",
      "ENSG00000184293|CLECL1|c5726c8\n",
      "ENSG00000117090|SLAMF1|135aee1\n"
     ]
    }
   ],
   "source": [
    "for x in unmapped_3:\n",
    "    if x not in unmapped:\n",
    "        print(x)"
   ]
  },
  {
   "cell_type": "markdown",
   "metadata": {},
   "source": [
    "confirmed that the additional 5 comes from the previous list of probes that failed to map to their targets but produced an alignment to a lncRNA."
   ]
  }
 ],
 "metadata": {
  "kernelspec": {
   "display_name": "Python 3 (ipykernel)",
   "language": "python",
   "name": "python3"
  },
  "language_info": {
   "codemirror_mode": {
    "name": "ipython",
    "version": 3
   },
   "file_extension": ".py",
   "mimetype": "text/x-python",
   "name": "python",
   "nbconvert_exporter": "python",
   "pygments_lexer": "ipython3",
   "version": "3.9.15"
  }
 },
 "nbformat": 4,
 "nbformat_minor": 2
}
