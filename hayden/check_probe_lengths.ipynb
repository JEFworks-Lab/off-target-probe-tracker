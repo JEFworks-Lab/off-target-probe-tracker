{
 "cells": [
  {
   "cell_type": "code",
   "execution_count": 5,
   "metadata": {},
   "outputs": [],
   "source": [
    "import pyfastx\n",
    "import os\n",
    "from collections import Counter"
   ]
  },
  {
   "cell_type": "code",
   "execution_count": 3,
   "metadata": {},
   "outputs": [],
   "source": [
    "wkdir = \"/ccb/salz4-3/hji20/off-target-probe-checker/data/10x_data/xenium_v1_gep_probes\""
   ]
  },
  {
   "cell_type": "code",
   "execution_count": 4,
   "metadata": {},
   "outputs": [],
   "source": [
    "fa = pyfastx.Fasta(os.path.join(wkdir, \"xenium_human_colon_gene_expression_panel_probe_sequences.fasta\"))"
   ]
  },
  {
   "cell_type": "code",
   "execution_count": 9,
   "metadata": {},
   "outputs": [
    {
     "name": "stdout",
     "output_type": "stream",
     "text": [
      "2027 / 2410 with length 40bp\n"
     ]
    }
   ],
   "source": [
    "probe_lens = []\n",
    "for ent in fa:\n",
    "    probe_lens.append(len(ent.seq))\n",
    "lfreqs = Counter(probe_lens)\n",
    "print(f'{lfreqs[40]} / {len(fa)} with length 40bp')"
   ]
  },
  {
   "cell_type": "markdown",
   "metadata": {},
   "source": [
    "while majority of them are 40bp, there are hundreds that are "
   ]
  }
 ],
 "metadata": {
  "kernelspec": {
   "display_name": "Python 3 (ipykernel)",
   "language": "python",
   "name": "python3"
  }
 },
 "nbformat": 4,
 "nbformat_minor": 2
}
