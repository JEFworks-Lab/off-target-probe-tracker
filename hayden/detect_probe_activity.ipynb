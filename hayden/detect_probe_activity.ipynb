{
 "cells": [
  {
   "cell_type": "code",
   "execution_count": 10,
   "metadata": {},
   "outputs": [],
   "source": [
    "import pysam\n",
    "import pandas as pd\n",
    "from tqdm import tqdm"
   ]
  },
  {
   "cell_type": "code",
   "execution_count": 3,
   "metadata": {},
   "outputs": [],
   "source": [
    "fn = \"/ccb/salz4-3/hji20/off-target-probe-checker/data/gencode_pc_g2t_mapping.csv\"\n",
    "df = pd.read_csv(fn)\n",
    "t2g = dict()\n",
    "for i, row in df.iterrows():\n",
    "    gid = row['gene_id']\n",
    "    tid = row['transcript_id']\n",
    "    t2g[tid] = gid "
   ]
  },
  {
   "cell_type": "code",
   "execution_count": 4,
   "metadata": {},
   "outputs": [],
   "source": [
    "def convert_md2bit(s):\n",
    "    running = \"\"\n",
    "    bit_s = \"\"\n",
    "    for c in s:\n",
    "        if c.isdigit():\n",
    "            running += c\n",
    "        else:\n",
    "            if len(running) > 0:\n",
    "                bit_s += '1' * int(running)\n",
    "            bit_s += '0'\n",
    "            running = \"\"\n",
    "    if len(running) > 0:\n",
    "        bit_s += '1' * int(running)\n",
    "    return bit_s\n",
    "\n",
    "# in case of indels\n",
    "def convert_cigar2bit(tup):\n",
    "    bit_s = \"\"\n",
    "    for x in tup:\n",
    "        op, l = x\n",
    "        if op == 0: # match\n",
    "            bit_s += '1' * l\n",
    "        elif op == 1 or op == 4: # soft clip or ins\n",
    "            bit_s += '0' * l\n",
    "    return bit_s\n",
    "\n",
    "def convert_cigar2bit_del(tup, n):\n",
    "    bit_s_lst = []\n",
    "    bit_s = \"\"\n",
    "    for x in tup:\n",
    "        op, l = x\n",
    "        if op == 0: # match\n",
    "            bit_s += '1' * l\n",
    "        elif op == 1 or op == 4: # soft clip or ins\n",
    "            bit_s += '0' * l\n",
    "        elif op == 2:\n",
    "            temp = '0' * len(bit_s)\n",
    "            bit_s += '0' * (n - len(bit_s))\n",
    "            bit_s_lst.append(bit_s)\n",
    "            bit_s = temp\n",
    "    bit_s_lst.append(bit_s) # TODO: check if this correct\n",
    "    return bit_s_lst"
   ]
  },
  {
   "cell_type": "code",
   "execution_count": 5,
   "metadata": {},
   "outputs": [],
   "source": [
    "fn = \"/ccb/salz4-3/hji20/off-target-probe-checker/results/bt2/xenium_human_breast_gepps.pc_only.bam\"\n",
    "ainfos = dict()\n",
    "crit_bit = \"0\" * 10 + \"1\" * 20 + \"0\" * 10\n",
    "crit_deci = int(crit_bit, 2)\n",
    "with pysam.AlignmentFile(fn, 'rb') as fh:\n",
    "    for brec in fh:\n",
    "        if brec.is_unmapped or brec.is_supplementary:\n",
    "            continue\n",
    "        qname = brec.query_name\n",
    "        tname = brec.reference_name\n",
    "        if qname not in ainfos:\n",
    "            ainfos[qname] = set()\n",
    "        cigar = brec.cigarstring\n",
    "        if cigar == '40M':\n",
    "            nm = int(brec.get_tag('NM'))\n",
    "            if nm == 0:\n",
    "                ainfos[qname].add(t2g[tname].split('.')[0])\n",
    "            else: # examine MD tag\n",
    "                md = brec.get_tag('MD')\n",
    "                md_bit = convert_md2bit(md)\n",
    "                if crit_deci & int(md_bit, 2) == crit_deci:\n",
    "                    ainfos[qname].add(t2g[tname].split('.')[0])\n",
    "        else:\n",
    "            if 'D' in cigar:\n",
    "                md_bits = convert_cigar2bit_del(brec.cigartuples, 40)\n",
    "                hit = False\n",
    "                for bit in md_bits:\n",
    "                    if crit_deci & int(bit, 2) == crit_deci:\n",
    "                        hit = True\n",
    "                if hit:\n",
    "                    ainfos[qname].add(t2g[tname].split('.')[0])\n",
    "            else: # includes 'I', 'S', and 'M' (but not 'D')\n",
    "                md_bit = convert_cigar2bit(brec.cigartuples)\n",
    "                if crit_deci & int(md_bit, 2) == crit_deci:\n",
    "                    ainfos[qname].add(t2g[tname].split('.')[0])"
   ]
  },
  {
   "cell_type": "code",
   "execution_count": 33,
   "metadata": {},
   "outputs": [
    {
     "data": {
      "text/plain": [
       "93"
      ]
     },
     "execution_count": 33,
     "metadata": {},
     "output_type": "execute_result"
    }
   ],
   "source": [
    "# considering only perfect matches\n",
    "ctr = 0\n",
    "for x in ainfos:\n",
    "    if len(ainfos[x]) > 1:\n",
    "        ctr += 1\n",
    "ctr"
   ]
  },
  {
   "cell_type": "code",
   "execution_count": 35,
   "metadata": {},
   "outputs": [
    {
     "data": {
      "text/plain": [
       "112"
      ]
     },
     "execution_count": 35,
     "metadata": {},
     "output_type": "execute_result"
    }
   ],
   "source": [
    "# mismatches in the 10bp windows at the beginning and end of probe\n",
    "ctr = 0\n",
    "for x in ainfos:\n",
    "    if len(ainfos[x]) > 1:\n",
    "        ctr += 1\n",
    "ctr"
   ]
  },
  {
   "cell_type": "code",
   "execution_count": 6,
   "metadata": {},
   "outputs": [
    {
     "name": "stdout",
     "output_type": "stream",
     "text": [
      "183\t1\n"
     ]
    }
   ],
   "source": [
    "# indels, mismatches, and soft clips considered\n",
    "over_ctr = 0\n",
    "under_ctr = 0\n",
    "for x in ainfos:\n",
    "    if len(ainfos[x]) > 1:\n",
    "        over_ctr += 1\n",
    "    elif len(ainfos[x]) == 0:\n",
    "        under_ctr += 1\n",
    "print(f'{over_ctr}\\t{under_ctr}')"
   ]
  },
  {
   "cell_type": "code",
   "execution_count": 8,
   "metadata": {},
   "outputs": [],
   "source": [
    "out_fn = \"/ccb/salz4-3/hji20/off-target-probe-checker/hayden/probe2targets.tsv\"\n",
    "with open(out_fn, 'w') as fh:\n",
    "    for x in ainfos:\n",
    "        temp = ','.join(ainfos[x])\n",
    "        fh.write(f'{x}\\t{len(ainfos[x])}\\t[{temp}]\\n')"
   ]
  },
  {
   "cell_type": "markdown",
   "metadata": {},
   "source": [
    "for convenience, let's also convert the GENCODE `gene_id` to more canonical `gene_name`"
   ]
  },
  {
   "cell_type": "code",
   "execution_count": 9,
   "metadata": {},
   "outputs": [
    {
     "data": {
      "text/html": [
       "<div>\n",
       "<style scoped>\n",
       "    .dataframe tbody tr th:only-of-type {\n",
       "        vertical-align: middle;\n",
       "    }\n",
       "\n",
       "    .dataframe tbody tr th {\n",
       "        vertical-align: top;\n",
       "    }\n",
       "\n",
       "    .dataframe thead th {\n",
       "        text-align: right;\n",
       "    }\n",
       "</style>\n",
       "<table border=\"1\" class=\"dataframe\">\n",
       "  <thead>\n",
       "    <tr style=\"text-align: right;\">\n",
       "      <th></th>\n",
       "      <th>chr</th>\n",
       "      <th>src</th>\n",
       "      <th>feature</th>\n",
       "      <th>start</th>\n",
       "      <th>end</th>\n",
       "      <th>score</th>\n",
       "      <th>strand</th>\n",
       "      <th>frame</th>\n",
       "      <th>attribute</th>\n",
       "    </tr>\n",
       "  </thead>\n",
       "  <tbody>\n",
       "    <tr>\n",
       "      <th>0</th>\n",
       "      <td>chr1</td>\n",
       "      <td>HAVANA</td>\n",
       "      <td>gene</td>\n",
       "      <td>11121.0</td>\n",
       "      <td>24894.0</td>\n",
       "      <td>.</td>\n",
       "      <td>+</td>\n",
       "      <td>.</td>\n",
       "      <td>ID=ENSG00000290825.2;gene_id=ENSG00000290825.2...</td>\n",
       "    </tr>\n",
       "    <tr>\n",
       "      <th>1</th>\n",
       "      <td>chr1</td>\n",
       "      <td>HAVANA</td>\n",
       "      <td>transcript</td>\n",
       "      <td>11426.0</td>\n",
       "      <td>14409.0</td>\n",
       "      <td>.</td>\n",
       "      <td>+</td>\n",
       "      <td>.</td>\n",
       "      <td>ID=ENST00000832828.1;Parent=ENSG00000290825.2;...</td>\n",
       "    </tr>\n",
       "    <tr>\n",
       "      <th>2</th>\n",
       "      <td>chr1</td>\n",
       "      <td>HAVANA</td>\n",
       "      <td>exon</td>\n",
       "      <td>11426.0</td>\n",
       "      <td>11671.0</td>\n",
       "      <td>.</td>\n",
       "      <td>+</td>\n",
       "      <td>.</td>\n",
       "      <td>ID=exon:ENST00000832828.1:1;Parent=ENST0000083...</td>\n",
       "    </tr>\n",
       "    <tr>\n",
       "      <th>3</th>\n",
       "      <td>chr1</td>\n",
       "      <td>HAVANA</td>\n",
       "      <td>exon</td>\n",
       "      <td>12010.0</td>\n",
       "      <td>12227.0</td>\n",
       "      <td>.</td>\n",
       "      <td>+</td>\n",
       "      <td>.</td>\n",
       "      <td>ID=exon:ENST00000832828.1:2;Parent=ENST0000083...</td>\n",
       "    </tr>\n",
       "    <tr>\n",
       "      <th>4</th>\n",
       "      <td>chr1</td>\n",
       "      <td>HAVANA</td>\n",
       "      <td>exon</td>\n",
       "      <td>12613.0</td>\n",
       "      <td>12721.0</td>\n",
       "      <td>.</td>\n",
       "      <td>+</td>\n",
       "      <td>.</td>\n",
       "      <td>ID=exon:ENST00000832828.1:3;Parent=ENST0000083...</td>\n",
       "    </tr>\n",
       "  </tbody>\n",
       "</table>\n",
       "</div>"
      ],
      "text/plain": [
       "    chr     src     feature    start      end score strand frame  \\\n",
       "0  chr1  HAVANA        gene  11121.0  24894.0     .      +     .   \n",
       "1  chr1  HAVANA  transcript  11426.0  14409.0     .      +     .   \n",
       "2  chr1  HAVANA        exon  11426.0  11671.0     .      +     .   \n",
       "3  chr1  HAVANA        exon  12010.0  12227.0     .      +     .   \n",
       "4  chr1  HAVANA        exon  12613.0  12721.0     .      +     .   \n",
       "\n",
       "                                           attribute  \n",
       "0  ID=ENSG00000290825.2;gene_id=ENSG00000290825.2...  \n",
       "1  ID=ENST00000832828.1;Parent=ENSG00000290825.2;...  \n",
       "2  ID=exon:ENST00000832828.1:1;Parent=ENST0000083...  \n",
       "3  ID=exon:ENST00000832828.1:2;Parent=ENST0000083...  \n",
       "4  ID=exon:ENST00000832828.1:3;Parent=ENST0000083...  "
      ]
     },
     "execution_count": 9,
     "metadata": {},
     "output_type": "execute_result"
    }
   ],
   "source": [
    "fn = \"/ccb/salz4-3/hji20/off-target-probe-checker/data/gencode.v47.basic.annotation.fmted.gff\"\n",
    "df = pd.read_csv(fn, sep='\\t', header=None)\n",
    "df.columns = ['chr', 'src', 'feature', 'start', 'end', 'score', 'strand', 'frame', 'attribute']\n",
    "df.head()"
   ]
  },
  {
   "cell_type": "code",
   "execution_count": 11,
   "metadata": {},
   "outputs": [
    {
     "name": "stderr",
     "output_type": "stream",
     "text": [
      "2223391it [01:15, 29468.96it/s]"
     ]
    },
    {
     "name": "stdout",
     "output_type": "stream",
     "text": [
      "78724 genes loaded\n"
     ]
    },
    {
     "name": "stderr",
     "output_type": "stream",
     "text": [
      "\n"
     ]
    }
   ],
   "source": [
    "def get_ginfo(s):\n",
    "    temp = s.split(';')\n",
    "    gid = None\n",
    "    gname = None\n",
    "    for x in temp:\n",
    "        kv = x.split('=')\n",
    "        if len(kv) != 2: continue\n",
    "        if kv[0] == 'ID':\n",
    "            gid = kv[1]\n",
    "        elif kv[0] == 'gene_name':\n",
    "            gname = kv[1]\n",
    "            break\n",
    "    return gid, gname\n",
    "\n",
    "ginfos = dict() # <k,v> = <gid, gname>\n",
    "ctr = 0\n",
    "for i, row in tqdm(df.iterrows()):\n",
    "    if row['feature'] == 'gene':\n",
    "        gid, gname = get_ginfo(row['attribute'])\n",
    "        ctr += 1\n",
    "        if not gid or not gname:\n",
    "            print(\"error gene attributes\")\n",
    "            break\n",
    "        ginfos[gid] = gname\n",
    "print(f'{ctr} genes loaded')"
   ]
  },
  {
   "cell_type": "code",
   "execution_count": 13,
   "metadata": {},
   "outputs": [],
   "source": [
    "ginfos_fmted = dict()\n",
    "for gid in ginfos:\n",
    "    gid_fmted = gid.split('.')[0]\n",
    "    ginfos_fmted[gid_fmted] = ginfos[gid]"
   ]
  },
  {
   "cell_type": "code",
   "execution_count": 14,
   "metadata": {},
   "outputs": [],
   "source": [
    "out_fn = \"/ccb/salz4-3/hji20/off-target-probe-checker/hayden/probe2targets.named.tsv\"\n",
    "with open(out_fn, 'w') as fh:\n",
    "    for x in ainfos:\n",
    "        temp = ','.join([ginfos_fmted[g] for g in ainfos[x]])\n",
    "        fh.write(f'{x}\\t{len(ainfos[x])}\\t[{temp}]\\n')"
   ]
  }
 ],
 "metadata": {
  "kernelspec": {
   "display_name": "Python 3 (ipykernel)",
   "language": "python",
   "name": "python3"
  },
  "language_info": {
   "codemirror_mode": {
    "name": "ipython",
    "version": 3
   },
   "file_extension": ".py",
   "mimetype": "text/x-python",
   "name": "python",
   "nbconvert_exporter": "python",
   "pygments_lexer": "ipython3",
   "version": "3.9.15"
  }
 },
 "nbformat": 4,
 "nbformat_minor": 2
}
