{
 "cells": [
  {
   "cell_type": "code",
   "execution_count": 1,
   "metadata": {},
   "outputs": [],
   "source": [
    "import pandas as pd\n",
    "import pyfastx\n",
    "from tqdm import tqdm"
   ]
  },
  {
   "cell_type": "code",
   "execution_count": 2,
   "metadata": {},
   "outputs": [
    {
     "data": {
      "text/html": [
       "<div>\n",
       "<style scoped>\n",
       "    .dataframe tbody tr th:only-of-type {\n",
       "        vertical-align: middle;\n",
       "    }\n",
       "\n",
       "    .dataframe tbody tr th {\n",
       "        vertical-align: top;\n",
       "    }\n",
       "\n",
       "    .dataframe thead th {\n",
       "        text-align: right;\n",
       "    }\n",
       "</style>\n",
       "<table border=\"1\" class=\"dataframe\">\n",
       "  <thead>\n",
       "    <tr style=\"text-align: right;\">\n",
       "      <th></th>\n",
       "      <th>chr</th>\n",
       "      <th>src</th>\n",
       "      <th>feature</th>\n",
       "      <th>start</th>\n",
       "      <th>end</th>\n",
       "      <th>score</th>\n",
       "      <th>strand</th>\n",
       "      <th>frame</th>\n",
       "      <th>attribute</th>\n",
       "    </tr>\n",
       "  </thead>\n",
       "  <tbody>\n",
       "    <tr>\n",
       "      <th>0</th>\n",
       "      <td>chr1</td>\n",
       "      <td>HAVANA</td>\n",
       "      <td>gene</td>\n",
       "      <td>11121.0</td>\n",
       "      <td>24894.0</td>\n",
       "      <td>.</td>\n",
       "      <td>+</td>\n",
       "      <td>.</td>\n",
       "      <td>ID=ENSG00000290825.2;gene_id=ENSG00000290825.2...</td>\n",
       "    </tr>\n",
       "    <tr>\n",
       "      <th>1</th>\n",
       "      <td>chr1</td>\n",
       "      <td>HAVANA</td>\n",
       "      <td>transcript</td>\n",
       "      <td>11426.0</td>\n",
       "      <td>14409.0</td>\n",
       "      <td>.</td>\n",
       "      <td>+</td>\n",
       "      <td>.</td>\n",
       "      <td>ID=ENST00000832828.1;Parent=ENSG00000290825.2;...</td>\n",
       "    </tr>\n",
       "    <tr>\n",
       "      <th>2</th>\n",
       "      <td>chr1</td>\n",
       "      <td>HAVANA</td>\n",
       "      <td>exon</td>\n",
       "      <td>11426.0</td>\n",
       "      <td>11671.0</td>\n",
       "      <td>.</td>\n",
       "      <td>+</td>\n",
       "      <td>.</td>\n",
       "      <td>ID=exon:ENST00000832828.1:1;Parent=ENST0000083...</td>\n",
       "    </tr>\n",
       "    <tr>\n",
       "      <th>3</th>\n",
       "      <td>chr1</td>\n",
       "      <td>HAVANA</td>\n",
       "      <td>exon</td>\n",
       "      <td>12010.0</td>\n",
       "      <td>12227.0</td>\n",
       "      <td>.</td>\n",
       "      <td>+</td>\n",
       "      <td>.</td>\n",
       "      <td>ID=exon:ENST00000832828.1:2;Parent=ENST0000083...</td>\n",
       "    </tr>\n",
       "    <tr>\n",
       "      <th>4</th>\n",
       "      <td>chr1</td>\n",
       "      <td>HAVANA</td>\n",
       "      <td>exon</td>\n",
       "      <td>12613.0</td>\n",
       "      <td>12721.0</td>\n",
       "      <td>.</td>\n",
       "      <td>+</td>\n",
       "      <td>.</td>\n",
       "      <td>ID=exon:ENST00000832828.1:3;Parent=ENST0000083...</td>\n",
       "    </tr>\n",
       "  </tbody>\n",
       "</table>\n",
       "</div>"
      ],
      "text/plain": [
       "    chr     src     feature    start      end score strand frame  \\\n",
       "0  chr1  HAVANA        gene  11121.0  24894.0     .      +     .   \n",
       "1  chr1  HAVANA  transcript  11426.0  14409.0     .      +     .   \n",
       "2  chr1  HAVANA        exon  11426.0  11671.0     .      +     .   \n",
       "3  chr1  HAVANA        exon  12010.0  12227.0     .      +     .   \n",
       "4  chr1  HAVANA        exon  12613.0  12721.0     .      +     .   \n",
       "\n",
       "                                           attribute  \n",
       "0  ID=ENSG00000290825.2;gene_id=ENSG00000290825.2...  \n",
       "1  ID=ENST00000832828.1;Parent=ENSG00000290825.2;...  \n",
       "2  ID=exon:ENST00000832828.1:1;Parent=ENST0000083...  \n",
       "3  ID=exon:ENST00000832828.1:2;Parent=ENST0000083...  \n",
       "4  ID=exon:ENST00000832828.1:3;Parent=ENST0000083...  "
      ]
     },
     "execution_count": 2,
     "metadata": {},
     "output_type": "execute_result"
    }
   ],
   "source": [
    "fn = \"/ccb/salz4-3/hji20/off-target-probe-checker/data/gencode.v47.basic.annotation.fmted.gff\"\n",
    "df = pd.read_csv(fn, sep='\\t', header=None)\n",
    "df.columns = ['chr', 'src', 'feature', 'start', 'end', 'score', 'strand', 'frame', 'attribute']\n",
    "df.head()"
   ]
  },
  {
   "cell_type": "markdown",
   "metadata": {},
   "source": [
    "Isolate transcript ids present in the GENCODE BASIC annotation"
   ]
  },
  {
   "cell_type": "code",
   "execution_count": 13,
   "metadata": {},
   "outputs": [
    {
     "name": "stdout",
     "output_type": "stream",
     "text": [
      "158338 transcripts loaded\n"
     ]
    }
   ],
   "source": [
    "def get_tid(s):\n",
    "    temp = s.split(';')\n",
    "    tid = None\n",
    "    for x in temp:\n",
    "        kv = x.split('=')\n",
    "        if len(kv) != 2: continue\n",
    "        if kv[0] == 'ID':\n",
    "            tid = kv[1]\n",
    "            break\n",
    "    return tid\n",
    "\n",
    "tids = []\n",
    "for i, row in df.iterrows():\n",
    "    if row['feature'] == 'transcript':\n",
    "        tid = get_tid(row['attribute'])\n",
    "        if not tid: break; print(\"error parsing transcript ID\")\n",
    "        tids.append(tid)\n",
    "print(f'{len(tids)} transcripts loaded')"
   ]
  },
  {
   "cell_type": "code",
   "execution_count": 19,
   "metadata": {},
   "outputs": [],
   "source": [
    "fa = pyfastx.Fasta(\"/ccb/salz4-3/hji20/off-target-probe-checker/data/gencode.v47.transcripts.fa\")\n",
    "tids_2 = []\n",
    "for ent in fa:\n",
    "    tids_2.append(ent.name.split('|')[0])"
   ]
  },
  {
   "cell_type": "code",
   "execution_count": 24,
   "metadata": {},
   "outputs": [
    {
     "name": "stderr",
     "output_type": "stream",
     "text": [
      "100%|██████████████████████████████████████████████████████████████████████████████████████████████████████████████████████████████| 385659/385659 [00:14<00:00, 25879.09it/s]\n"
     ]
    }
   ],
   "source": [
    "out_fn = \"/ccb/salz4-3/hji20/off-target-probe-checker/data/gencode.v47.basic.transcripts.fa\"\n",
    "with open(out_fn, 'w') as fh:\n",
    "    tids = set(tids)\n",
    "    for ent in tqdm(fa):\n",
    "        temp = ent.name.split('|')[0].strip()\n",
    "        if temp in tids:\n",
    "            fh.write(ent.raw)"
   ]
  },
  {
   "cell_type": "markdown",
   "metadata": {},
   "source": [
    "Also make a transcripts.fa with just the protein coding transcripts:"
   ]
  },
  {
   "cell_type": "code",
   "execution_count": null,
   "metadata": {},
   "outputs": [],
   "source": []
  }
 ],
 "metadata": {
  "kernelspec": {
   "display_name": "Python 3 (ipykernel)",
   "language": "python",
   "name": "python3"
  }
 },
 "nbformat": 4,
 "nbformat_minor": 2
}
